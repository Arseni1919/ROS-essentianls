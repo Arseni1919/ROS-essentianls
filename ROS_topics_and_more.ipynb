{
 "cells": [
  {
   "cell_type": "markdown",
   "metadata": {},
   "source": [
    "# ROS workspaces, topics, servicies and actions"
   ]
  },
  {
   "cell_type": "markdown",
   "metadata": {},
   "source": [
    "## Workspace"
   ]
  },
  {
   "cell_type": "markdown",
   "metadata": {},
   "source": [
    "Before you start writing any ROS code, you need to set up a workspace for this code to\n",
    "live in. A workspace is simply a set of directories in which a related set of ROS code\n",
    "lives. You can have multiple ROS workspaces, but you can only work in one of them\n",
    "at any one time. The simple way to think about this is that you can only see code that\n",
    "lives in your current workspace.\n",
    "\n"
   ]
  },
  {
   "cell_type": "markdown",
   "metadata": {},
   "source": [
    "Start by making sure that you’ve added the system-wide ROS setup script to\n",
    "your .bashrc file:\n"
   ]
  },
  {
   "cell_type": "markdown",
   "metadata": {},
   "source": [
    "```\n",
    "user@hostname$ source /opt/ros/indigo/setup.bash\n",
    "```"
   ]
  },
  {
   "cell_type": "markdown",
   "metadata": {},
   "source": [
    "Now, we’re going to make a catkin workspace and initialize it:"
   ]
  },
  {
   "cell_type": "markdown",
   "metadata": {},
   "source": [
    "```\n",
    "user@hostname$ mkdir -p ~/catkin_ws/src\n",
    "user@hostname$ cd ~/catkin_ws/src\n",
    "user@hostname$ catkin_init_workspace\n",
    "```"
   ]
  },
  {
   "cell_type": "markdown",
   "metadata": {},
   "source": [
    "This creates a workspace directory called catkin_ws (although you can call it anything\n",
    "you like), with a src directory inside it for your code. The catkin_init_workspace\n",
    "command creates a CMakeLists.txt file for you in the src directory, where you invoked\n",
    "it. 1 Next, we’re going to create some other workspace files:"
   ]
  },
  {
   "cell_type": "markdown",
   "metadata": {},
   "source": [
    "```\n",
    "user@hostname$ cd ~/catkin_ws\n",
    "user@hostname$ catkin_make\n",
    "```"
   ]
  },
  {
   "cell_type": "markdown",
   "metadata": {},
   "source": [
    "Running catkin_make will generate a lot of output as it does its work. When it’s done,\n",
    "you’ll end up with two new directories: build and devel. build is where catkin is going\n",
    "to store the results of some of its work, like libraries and executable programs if you\n",
    "use C++. We’ll largely ignore build since we don’t need it much when using Python.\n",
    "devel contains a number of files and directories, the most interesting of which are the\n",
    "setup files. Running these configures your system to use this workspace, and the code\n",
    "that’s (going to be) contained inside it. Assuming you’re using the default command-\n",
    "line shell ( bash ) and are still in the top-level directory of your workspace, you can do\n",
    "this with:"
   ]
  },
  {
   "cell_type": "markdown",
   "metadata": {},
   "source": [
    "```\n",
    "user@hostname$ source devel/setup.bash\n",
    "```"
   ]
  },
  {
   "cell_type": "markdown",
   "metadata": {},
   "source": [
    "Congratulations! You’ve just created your first ROS workspace. You should put all the\n",
    "code for this book, and any additional code you write that’s based on it, into this\n",
    "workspace, in the src directory, organized as ROS packages."
   ]
  },
  {
   "cell_type": "markdown",
   "metadata": {},
   "source": [
    "## ROS Packages"
   ]
  },
  {
   "cell_type": "markdown",
   "metadata": {},
   "source": [
    "ROS software is organized into packages, each of which contains some combination\n",
    "of code, data, and documentation.\n",
    "Packages sit inside workspaces, in the src directory. Each package directory must\n",
    "include a CMakeLists.txt file and a package.xml file that describes the contents of the\n",
    "package and how catkin should interact with it. Creating a new package is easy:"
   ]
  },
  {
   "cell_type": "markdown",
   "metadata": {},
   "source": [
    "```\n",
    "user@hostname$ cd ~/catkin_ws/src\n",
    "user@hostname$ catkin_create_pkg my_awesome_code rospy\n",
    "```"
   ]
  },
  {
   "cell_type": "markdown",
   "metadata": {},
   "source": [
    "This changes the directory to src (where packages live) and invokes catkin_cre\n",
    "ate_pkg to make the new package called my_awesome_code , which depends on the\n",
    "(already existing) rospy package. "
   ]
  },
  {
   "cell_type": "markdown",
   "metadata": {},
   "source": [
    "## roslaunch"
   ]
  },
  {
   "cell_type": "markdown",
   "metadata": {},
   "source": [
    "oslaunch is a command-line tool designed to automate the launching of collections\n",
    "of ROS nodes. On the surface, it looks a lot like rosrun , needing a package name and\n",
    "a filename:"
   ]
  },
  {
   "cell_type": "markdown",
   "metadata": {},
   "source": [
    "```\n",
    "user@hostname$ roslaunch PACKAGE LAUNCH_FILE\n",
    "```"
   ]
  },
  {
   "cell_type": "markdown",
   "metadata": {},
   "source": [
    "However, roslaunch operates on launch files, rather than nodes. Launch files are\n",
    "XML files that describe a collection of nodes along with their topic remappings and parameters. By convention, these files have a suffix of `.launch`. For example, here is\n",
    "`talker_listener.launch` in the rospy_tutorials package:"
   ]
  },
  {
   "cell_type": "markdown",
   "metadata": {},
   "source": [
    "```xml\n",
    "<launch>\n",
    "    <node name=\"talker\" pkg=\"rospy_tutorials\"\n",
    "        type=\"talker.py\" output=\"screen\" args = \"1\"/>\n",
    "    <node name=\"listener\" pkg=\"rospy_tutorials\"\n",
    "        type=\"listener.py\" output=\"screen\" args = \"2\"/>\n",
    "</launch>\n",
    "```"
   ]
  },
  {
   "cell_type": "markdown",
   "metadata": {},
   "source": [
    "Each <node> tag includes attributes declaring the ROS graph name of the node, the\n",
    "package in which it can be found, and the type of node, which is simply the filename\n",
    "of the executable program. In this example, the output=\"screen\" attributes indicate\n",
    "that the talker and listener nodes should dump their console outputs to the cur‐\n",
    "rent console, instead of only to log files. This is a commonly used setting for debug‐\n",
    "ging; once things start working, it is often convenient to remove this attribute so that\n",
    "the console has less noise."
   ]
  },
  {
   "cell_type": "markdown",
   "metadata": {},
   "source": [
    "## Topics"
   ]
  },
  {
   "cell_type": "markdown",
   "metadata": {},
   "source": [
    "As we saw in the previous chapter, ROS systems consist of a number of independent\n",
    "nodes that comprise a graph. These nodes by themselves are typically not very useful.\n",
    "Things only get interesting when nodes communicate with each other, exchanging\n",
    "information and data. The most common way to do that is through topics. A topic is a\n",
    "name for a stream of messages with a defined type. For example, the data from a laser\n",
    "range-finder might be sent on a topic called scan , with a message type of LaserScan ,\n",
    "while the data from a camera might be sent over a topic called image , with a message\n",
    "type of Image .\n",
    "Topics implement a publish/subscribe communication mechanism, one of the more\n",
    "common ways to exchange data in a distributed system. Before nodes start to trans‐\n",
    "mit data over topics, they must first announce, or advertise, both the topic name and\n",
    "the types of messages that are going to be sent. Then they can start to send, or publish,\n",
    "the actual data on the topic. Nodes that want to receive messages on a topic can sub‐\n",
    "scribe to that topic by making a request to roscore . After subscribing, all messages on\n",
    "the topic are delivered to the node that made the request. One of the main advantages\n",
    "to using ROS is that all the messy details of setting up the necessary connections\n",
    "when nodes advertise or subscribe to topics is handled for you by the underlying\n",
    "communication mechanism so that you don’t have to worry about it yourself.\n",
    "In ROS, all messages on the same topic must be of the same data type. Although ROS\n",
    "does not enforce it, topic names often describe the messages that are sent over them.\n",
    "For example, on the PR2 robot, the topic /wide_stereo/right/image_color is used\n",
    "for color images from the rightmost camera of the wide-angle stereo pair."
   ]
  },
  {
   "cell_type": "markdown",
   "metadata": {},
   "source": [
    "```python\n",
    "#!/usr/bin/env python\n",
    "import rospy\n",
    "from std_msgs.msg import Int32\n",
    "rospy.init_node('topic_publisher')\n",
    "pub = rospy.Publisher('counter', Int32)\n",
    "rate = rospy.Rate(2)\n",
    "count = 0\n",
    "while not rospy.is_shutdown():\n",
    "    pub.publish(count)\n",
    "    count += 1\n",
    "    rate.sleep()\n",
    "```"
   ]
  },
  {
   "cell_type": "markdown",
   "metadata": {},
   "source": [
    "The first line:\n",
    "\n",
    "`#!/usr/bin/env python`\n",
    "\n",
    "is known as the shebang. It lets the operating system know that this is a Python file,\n",
    "and that it should be passed to the Python interpreter. Since we’re going to be running\n",
    "the nodes we write as programs, we also have to set execute permissions on them\n",
    "using the Linux chmod command:"
   ]
  },
  {
   "cell_type": "markdown",
   "metadata": {},
   "source": [
    "```\n",
    "user@hostname$ chmod u+x topic_publisher.py\n",
    "```"
   ]
  },
  {
   "cell_type": "markdown",
   "metadata": {},
   "source": [
    "Help commands to understand what is going on in the topic:\n"
   ]
  },
  {
   "cell_type": "markdown",
   "metadata": {},
   "source": [
    "```\n",
    "user@hostname$ rostopic echo TOPIC_NAME -n 5\n",
    "user@hostname$ rostopic hz TOPIC_NAME\n",
    "user@hostname$ rostopic info TOPIC_NAME\n",
    "user@hostname$ rostopic find std_msgs/Int32\n",
    "user@hostname$ rostopic pub TOPIC_NAME std_msgs/Int32 1000000\n",
    "```"
   ]
  },
  {
   "cell_type": "markdown",
   "metadata": {},
   "source": [
    "If a topic is marked as **latched**\n",
    "when it is advertised, subscribers automatically get the last message sent when they\n",
    "subscribe to the topic. In our map_server example, this means that we only need to\n",
    "mark it as latched and publish it once. Topics can be marked as latched with the\n",
    "optional latched argument:"
   ]
  },
  {
   "cell_type": "markdown",
   "metadata": {},
   "source": [
    "```python\n",
    "pub = rospy.Publisher('map', nav_msgs/OccupancyGrid, latch=True)\n",
    "```"
   ]
  },
  {
   "cell_type": "markdown",
   "metadata": {},
   "source": []
  },
  {
   "cell_type": "markdown",
   "metadata": {},
   "source": []
  },
  {
   "cell_type": "markdown",
   "metadata": {},
   "source": []
  },
  {
   "cell_type": "markdown",
   "metadata": {},
   "source": []
  },
  {
   "cell_type": "markdown",
   "metadata": {},
   "source": []
  }
 ],
 "metadata": {
  "kernelspec": {
   "display_name": "Python 3",
   "language": "python",
   "name": "python3"
  },
  "language_info": {
   "codemirror_mode": {
    "name": "ipython",
    "version": 3
   },
   "file_extension": ".py",
   "mimetype": "text/x-python",
   "name": "python",
   "nbconvert_exporter": "python",
   "pygments_lexer": "ipython3",
   "version": "3.8.2"
  }
 },
 "nbformat": 4,
 "nbformat_minor": 4
}
